{
 "cells": [
  {
   "cell_type": "markdown",
   "metadata": {},
   "source": [
    "# FluxCourse MODIS section\n",
    "\n",
    "## Introduction\n",
    "\n",
    "In this section we will learn how to use MODIS data from ORNL DAAC Fixed sites subset: https://modis.ornl.gov/data.html.\n",
    "\n",
    "## Logistics\n",
    "We use Jupyter Notebook for this practice. Remember to install the packages using \"conda install [package-name]\" in your command line. Before the course, remember to update your conda (if you use anaconda) by \"conda update conda\".\n",
    "You will need the following packages:\n",
    "\n",
    "* matplotlib\n",
    "* numpy\n",
    "* scipy"
   ]
  },
  {
   "cell_type": "code",
   "execution_count": null,
   "metadata": {},
   "outputs": [],
   "source": [
    "# Always start with loading the packages needed\n",
    "import pandas as pd\n",
    "import datetime as dt\n",
    "import numpy as np\n",
    "import matplotlib\n",
    "import matplotlib.pyplot as plt\n",
    "from scipy.signal import savgol_filter\n",
    "\n",
    "from pandas.plotting import register_matplotlib_converters\n",
    "register_matplotlib_converters()"
   ]
  },
  {
   "cell_type": "code",
   "execution_count": null,
   "metadata": {},
   "outputs": [],
   "source": [
    "# Pandas is quite useful when reading csv files with columns of different types\n",
    "vifile = '/Users/xiyang/Documents/GitHub/FluxCourse/Data/MODIS/250m_16_days_NDVI.csv'\n",
    "VItable= pd.read_csv(vifile, sep=',', header=None)"
   ]
  },
  {
   "cell_type": "code",
   "execution_count": null,
   "metadata": {},
   "outputs": [],
   "source": [
    "# First we want to create a timestamp in terms of day of year since some distant past\n",
    "# These timestamps are usually strings to begin with, and we need to extrac the year,\n",
    "# and day of year\n",
    "timetemp = VItable.iloc[:,2]\n",
    "yeartemp = np.asarray([int(x[1:5]) for x in timetemp])\n",
    "doytemp  = np.asarray([int(x[5:8]) for x in timetemp])\n",
    "timestamp= np.empty(len(yeartemp),dtype='datetime64[s]')\n",
    "for ii in range(len(yeartemp)):\n",
    "    timestamp[ii] = dt.date(yeartemp[ii],1,1) + dt.timedelta(days = (int(doytemp[ii]) -1))"
   ]
  },
  {
   "cell_type": "code",
   "execution_count": null,
   "metadata": {
    "scrolled": true
   },
   "outputs": [],
   "source": [
    "# plot the center pixel ID:545 and should be column 549 since there are 5 columns at the \n",
    "# beginning of the table and it is a zero-based subscript system\n",
    "# multiply it by 0.0001 from the raw EVI table. \n",
    "VI_centerpixel    = VItable.iloc[:,549] * 0.0001\n",
    "dates             = matplotlib.dates.date2num(timestamp)\n",
    "plt.plot_date(dates, VI_centerpixel, 'b-')\n",
    "plt.xlabel('Year')\n",
    "plt.ylabel('Vegetation Index')\n",
    "plt.show()"
   ]
  },
  {
   "cell_type": "markdown",
   "metadata": {},
   "source": [
    "### The importance of quality control\n",
    "\n",
    "MODIS provide information on the quality of each pixel based on various criteria. For the ORNL DAAC Fixed Site data we use, there is a quality-controlled version you can use.\n",
    "\n",
    "Let's take a look and see what is the difference between the raw data and the quality-controlled one."
   ]
  },
  {
   "cell_type": "code",
   "execution_count": null,
   "metadata": {},
   "outputs": [],
   "source": [
    "# Read qc files\n",
    "vi_afterqc_file = '/Users/xiyang/Documents/GitHub/FluxCourse/Data/MODIS/filtered_scaled_250m_16_days_NDVI.csv'\n",
    "vi_postqc_table = pd.read_csv(vi_afterqc_file, sep=',', header=None)"
   ]
  },
  {
   "cell_type": "code",
   "execution_count": null,
   "metadata": {},
   "outputs": [],
   "source": [
    "timetemp1 = vi_postqc_table.iloc[:,2]\n",
    "yeartemp1 = np.asarray([int(x[1:5]) for x in timetemp1])\n",
    "doytemp1  = np.asarray([int(x[5:8]) for x in timetemp1])\n",
    "timestamp1= np.empty(len(yeartemp1),dtype='datetime64[s]')\n",
    "for jj in range(len(yeartemp1)):\n",
    "    timestamp1[jj] = dt.date(yeartemp1[jj],1,1) + dt.timedelta(days = (int(doytemp1[jj]) -1))"
   ]
  },
  {
   "cell_type": "code",
   "execution_count": null,
   "metadata": {},
   "outputs": [],
   "source": [
    "vitmp             = vi_postqc_table.iloc[:,549]\n",
    "VIqctmp           = vitmp.replace('F',np.nan)\n",
    "VIqc_centerpixel  = VIqctmp.astype(float)\n",
    "dates1            = matplotlib.dates.date2num(timestamp1)\n",
    "plt.plot_date(dates, VI_centerpixel, 'b-')\n",
    "plt.plot_date(dates1, VIqc_centerpixel, 'r-')\n",
    "plt.xlabel('Year')\n",
    "plt.ylabel('Vegetation Index')\n",
    "plt.show()"
   ]
  },
  {
   "cell_type": "markdown",
   "metadata": {},
   "source": [
    "### Plot statistics\n",
    "\n",
    "Sometimes you want to take a look at the seasonality, mean monthly values etc. Here I provide some tools for you to use."
   ]
  },
  {
   "cell_type": "markdown",
   "metadata": {},
   "source": [
    "**Let's start with plotting the seasonal patterns of EVI**"
   ]
  },
  {
   "cell_type": "code",
   "execution_count": null,
   "metadata": {},
   "outputs": [],
   "source": [
    "unique_years = np.unique(yeartemp1)\n",
    "\n",
    "for kk in range(len(unique_years)):\n",
    "    data_subscript = (yeartemp1 == unique_years[kk])\n",
    "    #sg_data        = savgol_filter(EVIqc_centerpixel[data_subscript],3,1)\n",
    "    XX             = doytemp1[data_subscript]\n",
    "    YY             = VIqc_centerpixel[data_subscript];\n",
    "    poly           = np.polyfit(XX[~np.isnan(YY)],YY[~np.isnan(YY)],3)\n",
    "    poly_y         = np.poly1d(poly)(doytemp1[data_subscript])\n",
    "    plt.plot(doytemp1[data_subscript],VIqc_centerpixel[data_subscript],'o')\n",
    "    plt.plot(doytemp1[data_subscript],poly_y,'-')\n",
    "\n",
    "#plt.legend(unique_years.astype('str'))\n",
    "plt.xlabel('Day of Year')\n",
    "plt.ylabel('Vegetation Index')\n",
    "plt.show()"
   ]
  },
  {
   "cell_type": "markdown",
   "metadata": {},
   "source": [
    "**How about monthly mean and variance?**"
   ]
  },
  {
   "cell_type": "code",
   "execution_count": null,
   "metadata": {},
   "outputs": [],
   "source": [
    "VImean = np.empty(12)\n",
    "VIstd  = np.empty(12)\n",
    "for month_i in range(12):\n",
    "    \n",
    "    month_lb = dt.date(2000,month_i+1,1).timetuple().tm_yday\n",
    "    if month_i+2 > 12:\n",
    "        month_ub = 365\n",
    "    else:\n",
    "        month_ub = dt.date(2000,month_i+2,1).timetuple().tm_yday\n",
    "    \n",
    "    data_sub = (doytemp1 >= month_lb) & (doytemp1 < month_ub)\n",
    "    \n",
    "    VImean[month_i]   = np.nanmean(VIqc_centerpixel[data_sub])\n",
    "    VIstd[month_i]   = np.nanstd(VIqc_centerpixel[data_sub])\n",
    "\n",
    "plt.errorbar(range(1,13),VImean,VIstd)\n",
    "plt.xlabel('Month')\n",
    "plt.ylabel('Vegetation Index')\n",
    "plt.show()"
   ]
  },
  {
   "cell_type": "markdown",
   "metadata": {},
   "source": [
    "## How about try it yourself? \n",
    "\n",
    "We have land surface temperature data, and GPP data for Niwot Ridge. You can also download the data for your own site. You can adopt the code examples above."
   ]
  },
  {
   "cell_type": "code",
   "execution_count": null,
   "metadata": {},
   "outputs": [],
   "source": []
  }
 ],
 "metadata": {
  "kernelspec": {
   "display_name": "Python 3",
   "language": "python",
   "name": "python3"
  },
  "language_info": {
   "codemirror_mode": {
    "name": "ipython",
    "version": 3
   },
   "file_extension": ".py",
   "mimetype": "text/x-python",
   "name": "python",
   "nbconvert_exporter": "python",
   "pygments_lexer": "ipython3",
   "version": "3.6.8"
  }
 },
 "nbformat": 4,
 "nbformat_minor": 2
}
