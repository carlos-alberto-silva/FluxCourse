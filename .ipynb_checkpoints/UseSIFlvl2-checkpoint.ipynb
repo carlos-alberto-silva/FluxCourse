{
 "cells": [
  {
   "cell_type": "markdown",
   "metadata": {},
   "source": [
    "# Fluxcourse SIF section\n",
    "\n",
    "## Introduction\n",
    "In this section, we will learn how to process SIF data from multiple satellite platforms. At the end of this section, we will compare satellite SIF data with GPP estimation from a few FLUXNET towers. We will go through the following sections:\n",
    "\n",
    "* The start: how to read SIF data?\n",
    "* Post-processing: how to create scientifically useful datasets and visualize them?\n",
    "* I want to create fancy maps, how to do it?\n",
    "* Do what we see from the satellite agree with what we see from the ground (i.e. FLUXNET or Ameriflux)?\n",
    "\n",
    "## Logistics\n",
    "We use Jupyter Notebook for this practice. Remember to install the packages using \"conda install [package-name]\" in your command line. Before the course, remember to update your conda (if you use anaconda) by \"conda update conda\".\n",
    "You will need the following packages:\n",
    "\n",
    "* matplotlib\n",
    "* numpy\n",
    "* scipy\n",
    "* h5py\n",
    "* netCDF4\n",
    "* glob\n",
    "* traceback\n",
    "\n",
    "A large portion of this code is from **Christian Frankenberg and Philipp Koehler**. L2_tools.py provides the tools to use TROPOMI and OCO-2 L2 data. You will need to have the following files under the same folder of this code:\n",
    "\n",
    "* L2_tools.py: read SIF data; calculate running mean\n",
    "* spectral_shape.dat: the spectral shape you created from the previous section\n",
    "\n",
    "Another useful tool to read netCDF file is Panoply. It is a free software from NASA. Download it from here: https://www.giss.nasa.gov/tools/panoply/"
   ]
  },
  {
   "cell_type": "code",
   "execution_count": 1,
   "metadata": {},
   "outputs": [],
   "source": [
    "# Remember to install these packages\n",
    "import matplotlib.pyplot as plt\n",
    "import numpy as np\n",
    "import scipy\n",
    "# nicer figures using ggg plot style.\n",
    "plt.style.use('ggplot')\n",
    "from IPython.core.display import HTML\n",
    "from IPython.display import clear_output\n",
    "from IPython.core.pylabtools import figsize"
   ]
  },
  {
   "cell_type": "markdown",
   "metadata": {},
   "source": [
    "# Add SIFtool\n",
    "Remember to add L2_tool.py to the same folder"
   ]
  },
  {
   "cell_type": "code",
   "execution_count": 2,
   "metadata": {},
   "outputs": [
    {
     "name": "stderr",
     "output_type": "stream",
     "text": [
      "/Users/xiyang/anaconda3/lib/python3.6/site-packages/h5py/__init__.py:36: FutureWarning: Conversion of the second argument of issubdtype from `float` to `np.floating` is deprecated. In future, it will be treated as `np.float64 == np.dtype(float).type`.\n",
      "  from ._conv import register_converters as _register_converters\n"
     ]
    }
   ],
   "source": [
    "# This file L2_tools.py is in the same folder here and will provide easy access to TROPOMI and OCO-2 L2 data \n",
    "from L2_tools import *"
   ]
  },
  {
   "cell_type": "code",
   "execution_count": null,
   "metadata": {},
   "outputs": [],
   "source": [
    "# Use your local directory\n",
    "path_tropomi = '/Volumes/data2/projects/TROPOMI/nc_ungridded/'\n",
    "path_oco2 = '/Volumes/data1/ftp/data/OCO2/sif_lite_B8100/'\n",
    "\n",
    "# This is still cumbersome, the units are part of the netCDF4 files but I hardcode them for now:\n",
    "t_unit_oco2    = \"seconds since 1993-1-1 0:0:0\"\n",
    "t_unit_tropomi = \"seconds since 1970-01-01 00:00:00\"\n",
    "t_cal = u\"gregorian\""
   ]
  },
  {
   "cell_type": "code",
   "execution_count": null,
   "metadata": {},
   "outputs": [],
   "source": []
  }
 ],
 "metadata": {
  "kernelspec": {
   "display_name": "Python 3",
   "language": "python",
   "name": "python3"
  },
  "language_info": {
   "codemirror_mode": {
    "name": "ipython",
    "version": 3
   },
   "file_extension": ".py",
   "mimetype": "text/x-python",
   "name": "python",
   "nbconvert_exporter": "python",
   "pygments_lexer": "ipython3",
   "version": "3.6.8"
  }
 },
 "nbformat": 4,
 "nbformat_minor": 2
}
