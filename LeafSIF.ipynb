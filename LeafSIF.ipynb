{
 "cells": [
  {
   "cell_type": "markdown",
   "metadata": {},
   "source": [
    "# FluxCourse SIF section (1)\n",
    "\n",
    "## Introduction\n",
    "\n",
    "In this section, we will learn the basics of SIF emission from leaves, including:\n",
    "\n",
    "* Understand the shape of fluorescence emission (using the data you collected)\n",
    "* Understand that light intensity as the major control of SIF emission\n",
    "* Retrieve SIF from an outdoor environment\n",
    "\n",
    "What we learn here is a mini-version of what has been down with satellite, airborne, or ground-based remote sensing instruments. Hopefully with this hands-on practice you will gain some basic understandings of remote sensing data processing.\n",
    "\n",
    "## Logistics\n",
    "\n",
    "\n",
    "You will need to collect the raw digital number from the \"SIF magic box\" experiment. We will convert these DN to radiance. You will need the following packages. Remember to install the packages using \"conda install [package-name]\" in your command line:\n",
    "\n",
    "* pandas\n",
    "* numpy\n",
    "* matplotlib\n",
    "* glob\n",
    "* xlrd\n",
    "* scipy\n",
    "\n",
    "## Reference\n",
    "\n",
    "Shameless self-promotion ;)\n",
    "\n",
    "Yang, X., Shi, H., Stovall, A., Guan, K., Miao, G., Zhang, Y., Zhang, Y., Xiao, X., Ryu, Y. and Lee, J.E., 2018. [FluoSpec 2—An Automated Field Spectroscopy System to Monitor Canopy Solar-Induced Fluorescence.](https://www.mdpi.com/1424-8220/18/7/2063/pdf-vor) Sensors, 18(7), p.2063.\n",
    "\n",
    "Yang, X., Tang, J., Mustard, J.F., Lee, J.E., Rossini, M., Joiner, J., Munger, J.W., Kornfeld, A. and Richardson, A.D., 2015. [Solar‐induced chlorophyll fluorescence that correlates with canopy photosynthesis on diurnal and seasonal scales in a temperate deciduous forest.](https://agupubs.onlinelibrary.wiley.com/doi/full/10.1002/2015GL063201) Geophysical Research Letters, 42(8), pp.2977-2987."
   ]
  },
  {
   "cell_type": "markdown",
   "metadata": {},
   "source": [
    "**Import packages (usually the first step)**"
   ]
  },
  {
   "cell_type": "code",
   "execution_count": null,
   "metadata": {},
   "outputs": [],
   "source": [
    "import pandas as pd\n",
    "import numpy as np\n",
    "import matplotlib.pyplot as plt\n",
    "import glob\n",
    "import scipy\n",
    "from matplotlib.backends.backend_pdf import PdfPages\n",
    "\n",
    "# import the leaf sif tool I wrote\n",
    "from leaf_SIF_tools import *"
   ]
  },
  {
   "cell_type": "markdown",
   "metadata": {},
   "source": [
    "### Let's read one spectra file we've just collected\n",
    "We will read the spectra, which is in raw DN, uncalibrated. We will then visualize it"
   ]
  },
  {
   "cell_type": "code",
   "execution_count": null,
   "metadata": {},
   "outputs": [],
   "source": [
    "# Change the filename to the file you want to read. Pick one yourself from the light folder\n",
    "filename         = '/Users/xiyang/Documents/GitHub/FluxCourse/Data/light/QEP013861_16-40-50-489.txt'\n",
    "# Take a look at the function read_rawspec in leaf_SIF_tools.py\n",
    "# read_rawspec reads the files you just collected, and the output\n",
    "# are df, which is a DataFrame of your spectrum, and ITdf, which is\n",
    "# the integration time of the spectrum you just collected. For ITdf,\n",
    "# the first column is the placeholder, and you use the second column\n",
    "filename1        = open(filename,'r')\n",
    "lines            = filename1.readlines()\n",
    "df,ITdf          = read_rawspec(filename)"
   ]
  },
  {
   "cell_type": "markdown",
   "metadata": {},
   "source": [
    "You can print out the spectrum and IT"
   ]
  },
  {
   "cell_type": "code",
   "execution_count": null,
   "metadata": {},
   "outputs": [],
   "source": [
    "display(df)\n",
    "display(ITdf)"
   ]
  },
  {
   "cell_type": "markdown",
   "metadata": {},
   "source": [
    "How about plot it?"
   ]
  },
  {
   "cell_type": "code",
   "execution_count": null,
   "metadata": {},
   "outputs": [],
   "source": [
    "plt.plot(df['wavelength'],df.iloc[:,1])\n",
    "plt.xlabel('wavelength(nm)')\n",
    "plt.ylabel('Digital Number(DN)')\n",
    "plt.show()"
   ]
  },
  {
   "cell_type": "markdown",
   "metadata": {},
   "source": [
    "This is one of the raw fluorescence spectra you just collected! Congratulations! Now, take a look at the spectrum here and summarize what you see.\n",
    "\n",
    "During the experiment, we collected a lot of spectra, and we also collected some \"dark\" spectra. The actual signal coming from the leaves are the difference between the \"light\" and \"dark\" measurements. Let's take a look at them separately, and the calculate the actual signal with them."
   ]
  },
  {
   "cell_type": "code",
   "execution_count": null,
   "metadata": {
    "scrolled": true
   },
   "outputs": [],
   "source": [
    "# In this example, I have twenty \"light\" spectra and ten \"dark\" spectra. \n",
    "# Let's plot \"light\" spectra\n",
    "lightfiles      = '/Users/xiyang/Documents/GitHub/FluxCourse/Data/light/*.txt'\n",
    "df2,ITdf2       = read_rawspec(lightfiles)\n",
    "plt.plot(df2['wavelength'],df2.iloc[:,1:])\n",
    "plt.xlabel('wavelength(nm)')\n",
    "plt.ylabel('Digital Number(DN)')\n",
    "plt.show()"
   ]
  },
  {
   "cell_type": "code",
   "execution_count": null,
   "metadata": {},
   "outputs": [],
   "source": [
    "# Let's plot \"dark\" spectra\n",
    "darkfiles       = '/Users/xiyang/Documents/GitHub/FluxCourse/Data/dark/*.txt'\n",
    "df3,ITdf3       = read_rawspec(darkfiles)\n",
    "\n",
    "plt.subplot(2,1,1)\n",
    "plt.plot(df3['wavelength'],df3.iloc[:,1:])\n",
    "plt.ylabel('Digital Number(DN)')\n",
    "\n",
    "plt.subplot(2,1,2)\n",
    "plt.plot(df3['wavelength'],df3.iloc[:,1:])\n",
    "plt.xlabel('wavelength(nm)')\n",
    "plt.ylabel('Digital Number(DN)')\n",
    "\n",
    "plt.ylim([1680,1730])\n",
    "plt.show()"
   ]
  },
  {
   "cell_type": "markdown",
   "metadata": {},
   "source": [
    "**What do we see here?**\n",
    "\n",
    "\n",
    "1) Dark current is the electric noise of the spectrometer, it is fairly constant during measurements (consider the variation in dark current vs. the magnitude and variation of light measurements).\n",
    "\n",
    "2) There are some pixels that has random yet much bigger noise, but in reality we don't need to worry about it too much, for two reasons: usually there are only 1-2 pixels (out of 1044 pixels) that may have a \"spike\" in dark signal; the magnitude of the spike is still very small compared with the signal you get from leaves."
   ]
  },
  {
   "cell_type": "markdown",
   "metadata": {},
   "source": [
    "### Radiometric calibration: converting raw data to values with physical meanings\n",
    "\n",
    "The next step is essential in most circumstances in remote sensing. We will convert unitless DN values to radiance in the unit of mw/m2/nm/sr, exactly the same as the unit of data from those SIF satellite sensors (OCO-2, TROPOMI etc.) \n",
    "\n",
    "Usually this process involves some calibration factor that you get from the manufacturer, or you collect yourself. In this practice, I provide you with the calibration factor for this spectrometer we are using: \"/Users/xiyang/Documents/GitHub/FluxCourse/Data/20190521/QEP013861_20190521_ConversionFactor_L_VEG.xlsx\". There are three calibration factors, each in one column of this file, collected under a certain integration time. You can find these integration time in the tab \"int_time\". Let's plot them."
   ]
  },
  {
   "cell_type": "code",
   "execution_count": null,
   "metadata": {},
   "outputs": [],
   "source": [
    "calib_factor = pd.read_excel('/Users/xiyang/Documents/GitHub/FluxCourse/Data/20190521/QEP013861_20190521_ConversionFactor_L_VEG.xlsx',sheet_name='cov_cor',header=None)\n",
    "calib_wl     = pd.read_excel('/Users/xiyang/Documents/GitHub/FluxCourse/Data/20190521/QEP013861_20190521_ConversionFactor_L_VEG.xlsx',sheet_name='wl',header=None)\n",
    "calib_int    = pd.read_excel('/Users/xiyang/Documents/GitHub/FluxCourse/Data/20190521/QEP013861_20190521_ConversionFactor_L_VEG.xlsx',sheet_name='int_time',header=None)\n",
    "#calib_int needs to be converted from ms to s by multiplying 0.001\n",
    "calib_int    = calib_int*0.001"
   ]
  },
  {
   "cell_type": "code",
   "execution_count": null,
   "metadata": {},
   "outputs": [],
   "source": [
    "plt.subplot(2,1,1)\n",
    "plt.plot(calib_wl,calib_factor)\n",
    "plt.ylabel('Calibration Factor')\n",
    "plt.subplot(2,1,2)\n",
    "plt.plot(calib_wl,calib_factor)\n",
    "plt.xlabel('wavelength(nm)')\n",
    "plt.ylabel('Calibration Factor')\n",
    "plt.xlim([635,780])\n",
    "plt.ylim([0,0.01])\n",
    "plt.show()"
   ]
  },
  {
   "cell_type": "markdown",
   "metadata": {},
   "source": [
    "**What is going on at the beginning and the end of the spectra??**\n",
    "\n",
    "Spectrometers are designed in a way that they have some pixels that serve as the \"baseline\" of the electronic performance of spectrometers, and they are located at the beginning and end of the electronic detectors (pixels). We will exclude them in the future analysis (first 10 and last 10).\n",
    "\n",
    "**How to convert DN to Radiance??**\n",
    "\n",
    "DN values (actual signal) are generally linearly correlated with the integration time. That is the longer the integration time, the higher the DN is. Thus we can use the following equation to calculate radiance:\n",
    "\n",
    "Radiance = (Light - Dark) * Calibration Factor * (INT2/INT1), where INT1 is the integration time of the actual measurement, where as INT2 is the integration time of the calibration factor. You can pick one of the calibration factors (why?).\n",
    "\n",
    "I have written a function to convert the data you collected (DN values, light-dark) to Radiance. The syntax is:\n",
    "\n",
    "Radiance = DNtoRad(light,dark,intTime,calib_factor,calib_intTime)\n",
    "* light: one spectrum of the object (leaf or panel)\n",
    "* dark: dark current\n",
    "* intTime: integration time of your measurement\n",
    "* calib_factor: calibration factor we read. Pick one of the three (any of them)\n",
    "* calib_intTime: calibration integration time.\n",
    "* Radiance: the output radiance of the object"
   ]
  },
  {
   "cell_type": "code",
   "execution_count": null,
   "metadata": {},
   "outputs": [],
   "source": [
    "# The signal is calculated as signal = light - mean(dark); \n",
    "SIF_radiance     = np.ndarray(shape=(len(df2),len(df2.columns)-1))\n",
    "for ii in range(len(df2.columns)-1):\n",
    "    light              = df2.iloc[:,ii+1]\n",
    "    dark               = df3.iloc[:,1:].mean(axis=1)\n",
    "    intTime            = ITdf2.iloc[:,1] \n",
    "    cal_factor         = calib_factor.iloc[:,2]\n",
    "    cal_intTime        = calib_int.iloc[:,2]\n",
    "    SIF_radiance[:,ii] = DNtoRad(light,dark,intTime,cal_factor,cal_intTime)\n",
    "\n",
    "plt.plot(df3['wavelength'],SIF_radiance)\n",
    "plt.xlim([635,790])\n",
    "plt.ylim([0,4])\n",
    "plt.xlabel('wavelength(nm)')\n",
    "plt.ylabel('fluorescence(w/m2/nm/sr)')\n",
    "plt.show()"
   ]
  },
  {
   "cell_type": "markdown",
   "metadata": {},
   "source": [
    "Satellites usually retrieve SIF from the near-infrared region (700 nm and beyond), with the exception that Dr. Joiner (NASA GSFC) has estimated red SIF from GOME-2. OCO-2 gives you SIF at 771 nm and 757 nm, while TROPOMI gives you SIF at 740 nm. FLEX mission has the potential to provide SIF estimates at ~680 nm at ~760 nm.\n",
    "\n",
    "You can compare the magnitude of the SIF signal you measured with satellites' SIF estimation later in this session."
   ]
  },
  {
   "cell_type": "markdown",
   "metadata": {},
   "source": [
    "## Outdoor measurements and calculating SIF from the raw data\n",
    "\n",
    "Outdoor measurements of SIF are different and more difficult than the indoor measurements you've just done. Why?\n",
    "\n",
    "In this section, you will learn how to retrieve SIF from outdoor leaf-level and/or canopy-level measurements. The goal is to introduce the basis of all kinds of SIF retrieval methods, including those that are used by satellites. We are not going to cover the details of all methods, but instead providing a basic understanding of the retrieval. After this section, hopefully you will gain insights in how SIF is being estimated from satellite or ground observations, and the potential uncertainties.\n"
   ]
  },
  {
   "cell_type": "code",
   "execution_count": null,
   "metadata": {},
   "outputs": [],
   "source": [
    "# put the folder names of your measurements\n",
    "\n",
    "referencefiles  = '/Users/xiyang/Documents/GitHub/FluxCourse/Data/outdoor/light/reference/*.txt'\n",
    "df_od1,IT_od1   = read_rawspec(referencefiles)\n",
    "leaffiles       = '/Users/xiyang/Documents/GitHub/FluxCourse/Data/outdoor/light/leaves/*.txt'\n",
    "df_od2,IT_od2   = read_rawspec(leaffiles)\n",
    "darkfiles       = '/Users/xiyang/Documents/GitHub/FluxCourse/Data/outdoor/dark/*.txt'\n",
    "df_od3,IT_od3   = read_rawspec(darkfiles)"
   ]
  },
  {
   "cell_type": "markdown",
   "metadata": {},
   "source": [
    "Take a look at the spectra you measured. Change the variable name to leaf or dark files if you want"
   ]
  },
  {
   "cell_type": "code",
   "execution_count": null,
   "metadata": {},
   "outputs": [],
   "source": [
    "display(df_od1)"
   ]
  },
  {
   "cell_type": "markdown",
   "metadata": {},
   "source": [
    "The next step is to convert DN to radiance. Feel free to modify plt. code to show the spectrum  (or spectra) you want to see."
   ]
  },
  {
   "cell_type": "code",
   "execution_count": null,
   "metadata": {},
   "outputs": [],
   "source": [
    "panel_radiance           = np.ndarray(shape=(len(df_od1),len(df_od1.columns)-1))\n",
    "for jj in range(len(df_od1.columns)-1):\n",
    "    light                = df_od1.iloc[:,jj+1]\n",
    "    dark                 = df_od3.iloc[:,1:].mean(axis=1)\n",
    "    intTime              = IT_od1.iloc[:,1] \n",
    "    cal_factor           = calib_factor.iloc[:,2]\n",
    "    cal_intTime          = calib_int.iloc[:,2]\n",
    "    panel_radiance[:,jj] = DNtoRad(light,dark,intTime,cal_factor,cal_intTime)\n",
    "\n",
    "leaf_radiance            = np.ndarray(shape=(len(df_od2),len(df_od2.columns)-1))\n",
    "for kk in range(len(df_od2.columns)-1):\n",
    "    light                = df_od2.iloc[:,kk+1]\n",
    "    dark                 = df_od3.iloc[:,1:].mean(axis=1)\n",
    "    intTime              = IT_od2.iloc[:,1] \n",
    "    cal_factor           = calib_factor.iloc[:,2]\n",
    "    cal_intTime          = calib_int.iloc[:,2]\n",
    "    leaf_radiance[:,kk]  = DNtoRad(light,dark,intTime,cal_factor,cal_intTime)\n",
    "\n",
    "plt.plot(df3['wavelength'],panel_radiance)\n",
    "#plt.plot(df3['wavelength'],leaf_radiance)\n",
    "plt.xlim([635,790])\n",
    "plt.ylim([0,500])\n",
    "plt.xlabel('wavelength(nm)')\n",
    "plt.ylabel('radiance(w/m2/nm/sr)')\n",
    "plt.show()"
   ]
  },
  {
   "cell_type": "markdown",
   "metadata": {},
   "source": [
    "What do we see here? Can you summarize the key features of the spectra you collected? Do they tell you the magnitude of SIF as intuitively as the indoor measurements? Why not?"
   ]
  },
  {
   "cell_type": "markdown",
   "metadata": {},
   "source": [
    "One way I usually use to check whether there is a SIF signal is to calculate the reflectance of the leaf:\n",
    "\n",
    "Reflectance = Leaf / (Panel * Pi)  <-- why Pi?"
   ]
  },
  {
   "cell_type": "code",
   "execution_count": null,
   "metadata": {},
   "outputs": [],
   "source": [
    "mean_panel  = np.mean(scipy.pi*panel_radiance,axis=1)\n",
    "reflectance = np.divide(leaf_radiance[:,],mean_panel[:,None])\n",
    "plt.plot(df3['wavelength'],reflectance)\n",
    "plt.xlim([635,790])\n",
    "plt.ylim([0,0.5])\n",
    "plt.xlabel('wavelength(nm)')\n",
    "plt.ylabel('reflectance')\n",
    "plt.show()"
   ]
  },
  {
   "cell_type": "markdown",
   "metadata": {},
   "source": [
    "What do you see here? Let's zoom in and take a look at the O2A band region (~760 nm)."
   ]
  },
  {
   "cell_type": "code",
   "execution_count": null,
   "metadata": {
    "scrolled": false
   },
   "outputs": [],
   "source": [
    "plt.plot(df3['wavelength'],reflectance)\n",
    "plt.xlim([740,780])\n",
    "plt.ylim([0.1,0.3])\n",
    "plt.xlabel('wavelength(nm)')\n",
    "plt.ylabel('reflectance')\n",
    "plt.show()"
   ]
  },
  {
   "cell_type": "markdown",
   "metadata": {},
   "source": [
    "We can visualize each individual spectrum and plot them in PDF"
   ]
  },
  {
   "cell_type": "code",
   "execution_count": null,
   "metadata": {},
   "outputs": [],
   "source": [
    "SIF = np.empty(len(df_od2.columns)-1)\n",
    "SIF_images = '/Users/xiyang/Documents/GitHub/FluxCourse/Data/SIF.pdf'\n",
    "PDF1= PdfPages(SIF_images)\n",
    "\n",
    "for kkk in range(len(df_od2.columns)-1):\n",
    "    \n",
    "    (SIF[kkk],fig)=SIF_SFM(leaf_radiance[:,kkk],mean_panel,df3['wavelength'])\n",
    "    PDF1.savefig(fig)\n",
    "    fig.clear()\n",
    "    fig.clf()\n",
    "    \n",
    "PDF1.close()  "
   ]
  },
  {
   "cell_type": "markdown",
   "metadata": {},
   "source": [
    "**Hooray! Congratulations! You have made your first SIF retrieval!**"
   ]
  }
 ],
 "metadata": {
  "kernelspec": {
   "display_name": "Python 3",
   "language": "python",
   "name": "python3"
  },
  "language_info": {
   "codemirror_mode": {
    "name": "ipython",
    "version": 3
   },
   "file_extension": ".py",
   "mimetype": "text/x-python",
   "name": "python",
   "nbconvert_exporter": "python",
   "pygments_lexer": "ipython3",
   "version": "3.6.8"
  }
 },
 "nbformat": 4,
 "nbformat_minor": 2
}
