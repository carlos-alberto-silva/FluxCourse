{
 "cells": [
  {
   "cell_type": "markdown",
   "metadata": {},
   "source": [
    "# How to read in and interpret Level 2 SIF data\n",
    "This jupyter notebook will guide you how to use SIF Level 2 data (ungridded SIF retrievals for each individual satellite footprint) in your research. I will also go through some of the typical pitfalls and misconceptions in using the data. The examples will be based mostly on TROPOMI and OCO-2 data but can easily be adapted to also access GOME-2 and SCIAMACHY data. In fact, some of the provided readers will be easily adaptable to ingest any arbitrary Level 2 dataset in HDF5 (or netCDF4).\n",
    "\n",
    "### Goals:\n",
    "<li> Learn how to read in OCO-2 and TROPOMI data\n",
    "<li> Learn that noise is normal and well characterized by the retrievals\n",
    "<li> Extract data from specific regions and create time-series\n",
    "<li> Learn how convert measurements at different wavelengths and times of day."
   ]
  },
  {
   "cell_type": "markdown",
   "metadata": {},
   "source": [
    "### Data format:\n",
    "First of all, almost all scientific datasets are now provided in either HDF or netCDF formats. We currently use the latest standards, i.e. HDF5 and netCDF4 (which is basically a layer on top of HDF5, so any HDF5 reader can access netCDF datasets). Typically, datasets include comments and units as attributes, so that you know what you are dealing with even without a user guide. In python, there are very convenient tools to access these files, h5py (http://docs.h5py.org/en/stable/) and netCDF4 (http://unidata.github.io/netcdf4-python/). A good start to look at files in the beginning is to use viewing tools like:\n",
    "<li> hdfview: https://support.hdfgroup.org/products/java/hdfview/\n",
    "<li> panoply (great for actually viewing L3 files!): https://www.giss.nasa.gov/tools/panoply/\n",
    "<li> you should also be able to use ncl tools: https://www.ncl.ucar.edu/ (not too familiar myself with those)\n"
   ]
  },
  {
   "cell_type": "markdown",
   "metadata": {},
   "source": [
    "Setting up the Jupyter environment (typical imports)"
   ]
  },
  {
   "cell_type": "code",
   "execution_count": 29,
   "metadata": {},
   "outputs": [],
   "source": [
    "#%matplotlib inline\n",
    "## The usual packages (numpy, matplotlib, etc)\n",
    "import matplotlib.pyplot as plt\n",
    "import numpy as np\n",
    "# nicer figures using ggg plot style.\n",
    "plt.style.use('ggplot')\n",
    "from IPython.core.display import HTML\n",
    "from IPython.display import clear_output\n",
    "from IPython.core.pylabtools import figsize\n",
    "\n",
    "# Register the converters to avoid further warnings\n",
    "from pandas.plotting import register_matplotlib_converters\n",
    "register_matplotlib_converters()"
   ]
  },
  {
   "cell_type": "markdown",
   "metadata": {},
   "source": [
    "### Most important step, import all tools in the L2_tools.py file \n",
    "(take a look at this if you want to know what is under the hood)"
   ]
  },
  {
   "cell_type": "code",
   "execution_count": 20,
   "metadata": {},
   "outputs": [],
   "source": [
    "# This file L2_tools.py is in the same folder here and will provide easy access to TROPOMI and OCO-2 L2 data \n",
    "from L2_tools import *"
   ]
  },
  {
   "cell_type": "markdown",
   "metadata": {},
   "source": [
    "### Download data first:\n",
    "paths for OCO-2 and TROPOMI data (in fact, the path just points to our internal structure of the ftp server at \n",
    "ftp://fluo.gps.caltech.edu/data/). So once you copy the folders (I suggest you learn how to use wget https://www.gnu.org/software/wget/ or curl https://www.tecmint.com/linux-curl-command-examples/)\n"
   ]
  },
  {
   "cell_type": "code",
   "execution_count": 21,
   "metadata": {},
   "outputs": [],
   "source": [
    "# Please adapt to your local directories after having mirrored our ftp data (and extracted the ungridded TROPOMI files):\n",
    "path_tropomi = '/Volumes/XiYangBackUp/Data/2.SatelliteData/3.OCO-2/AGU/TROPOMI/nc_ungridded/'\n",
    "path_oco2 = '/Volumes/XiYangBackUp/Data/2.SatelliteData/3.OCO-2/AGU/OCO2/sif_lite_B8100/'\n",
    "\n",
    "# This is still cumbersome, the units are part of the netCDF4 files but I hardcode them for now:\n",
    "t_unit_oco2    = \"seconds since 1993-1-1 0:0:0\"\n",
    "t_unit_tropomi = \"seconds since 1970-01-01 00:00:00\"\n",
    "t_cal = u\"gregorian\""
   ]
  },
  {
   "cell_type": "code",
   "execution_count": 22,
   "metadata": {},
   "outputs": [],
   "source": [
    "# Let us read in some OCO-2 and TROPOMI data over a non-fluorescing region in the Sahara\n",
    "# Define region boundaries for a part of the Sahara:\n",
    "latMin = 20\n",
    "latMax = 23\n",
    "lonMin = 5\n",
    "lonMax = 8"
   ]
  },
  {
   "cell_type": "markdown",
   "metadata": {},
   "source": [
    "Now read in the data, two dictionaries for OCO-2 and TROPOMI were included in L2_tools.py, it basically just enables you to decides which fields to read in and can be adapted (actually to read in any kind of data)\n",
    "The first entry should provide a path to all files you want to read (you can use wildcard!)"
   ]
  },
  {
   "cell_type": "code",
   "execution_count": 23,
   "metadata": {},
   "outputs": [
    {
     "name": "stdout",
     "output_type": "stream",
     "text": [
      "opening  /Volumes/XiYangBackUp/Data/2.SatelliteData/3.OCO-2/AGU/OCO2/sif_lite_B8100/2018/08/oco2_LtSIF_180831_B8100r_180926224719s.nc4 , # soundings:  1027 , Total #:  17291              \r"
     ]
    }
   ],
   "source": [
    "oco2_sahara = L2(path_oco2+'2018/0[45678]/*.nc4', dict_oco2,latMin, latMax, lonMin, lonMax )"
   ]
  },
  {
   "cell_type": "code",
   "execution_count": 24,
   "metadata": {},
   "outputs": [
    {
     "name": "stdout",
     "output_type": "stream",
     "text": [
      "opening  /Volumes/XiYangBackUp/Data/2.SatelliteData/3.OCO-2/AGU/TROPOMI/nc_ungridded/TROPO_SIF_2018-08-31_ungridded.nc , # soundings:  3305 , Total #:  269190              \r"
     ]
    }
   ],
   "source": [
    "# TROPOMI will take a bit more time, be patient!\n",
    "tropomi_sahara = L2(path_tropomi+'*2018-0[45678]*.nc', dict_tropomi,latMin, latMax, lonMin, lonMax )"
   ]
  },
  {
   "cell_type": "markdown",
   "metadata": {},
   "source": [
    "The syntax for reading in data is as follows:\n",
    "data = L2(path_to_data, dictionary,latMin, latMax, lonMin, lonMax )\n",
    "Find some examples for the dictionary below (these can be adapted to read in GOME-2 data). The format describes the \"key\" as how you want to name the variable in your returned class and the \"item\" as the variable name of the HDF5 file. "
   ]
  },
  {
   "cell_type": "markdown",
   "metadata": {},
   "source": [
    "------\n",
    "How does the reading routine work? It basically goes through the HDF5 files and uses a dictionary to decide which variables to read in. Then, it just concatenates all the data into a larger set and stores everything in a class (just think of it like a structure for now)\n",
    "\n",
    "Take a sneak peak at the dictionaries used, they basically describe which variable to read in (2nd componend) and how to call them in the class structure (first component). These are very generic, so you use them to read in OCO-2 XCO2 lite files as well (just require a new dictionary). In the future, we may add the use of json files as dictionary input."
   ]
  },
  {
   "cell_type": "code",
   "execution_count": 25,
   "metadata": {},
   "outputs": [
    {
     "data": {
      "text/plain": [
       "{'lat': 'latitude',\n",
       " 'lon': 'longitude',\n",
       " 'sza': 'solar_zenith_angle',\n",
       " 'vza': 'sensor_zenith_angle',\n",
       " 'saa': 'solar_azimuth_angle',\n",
       " 'vaa': 'sensor_azimuth_angle',\n",
       " 'biome': 'IGBP_index',\n",
       " 'mode': 'measurement_mode',\n",
       " 'sif_757': 'SIF_757nm',\n",
       " 'sif_771': 'SIF_771nm',\n",
       " 'sif_757_sigma': 'SIF_757nm_uncert',\n",
       " 'sif_771_sigma': 'SIF_771nm_uncert',\n",
       " 'dcCorr': 'daily_correction_factor',\n",
       " 'time': 'time'}"
      ]
     },
     "execution_count": 25,
     "metadata": {},
     "output_type": "execute_result"
    }
   ],
   "source": [
    "dict_oco2"
   ]
  },
  {
   "cell_type": "code",
   "execution_count": 26,
   "metadata": {},
   "outputs": [
    {
     "data": {
      "text/plain": [
       "{'lat': 'lat',\n",
       " 'lon': 'lon',\n",
       " 'sza': 'sza',\n",
       " 'vza': 'vza',\n",
       " 'phaseAngle': 'phase_angle',\n",
       " 'sif': 'sif',\n",
       " 'sif_sigma': 'sif_err',\n",
       " 'dcCorr': 'daily_correction_factor',\n",
       " 'time': 'TIME'}"
      ]
     },
     "execution_count": 26,
     "metadata": {},
     "output_type": "execute_result"
    }
   ],
   "source": [
    "dict_tropomi"
   ]
  },
  {
   "cell_type": "code",
   "execution_count": 27,
   "metadata": {},
   "outputs": [],
   "source": [
    "# First convert oco2 time units to a python time (this is a clunky step right now, need to automate later!)\n",
    "oco2_sahara.time_python    = convert_time(oco2_sahara.time, t_unit_oco2, t_cal)\n",
    "tropomi_sahara.time_python = convert_time(tropomi_sahara.time, t_unit_tropomi, t_cal)"
   ]
  },
  {
   "cell_type": "code",
   "execution_count": 30,
   "metadata": {},
   "outputs": [
    {
     "data": {
      "text/plain": [
       "Text(0.5, 1.0, 'TROPOMI (SIF at 740nm)')"
      ]
     },
     "execution_count": 30,
     "metadata": {},
     "output_type": "execute_result"
    },
    {
     "data": {
      "image/png": "[encoded data removed]",
      "text/plain": [
       "<Figure size 864x432 with 2 Axes>"
      ]
     },
     "metadata": {},
     "output_type": "display_data"
    }
   ],
   "source": [
    "# now lets plot a timeseries\n",
    "figsize(12,6)\n",
    "plt.subplot(1,2,1)\n",
    "plt.plot(oco2_sahara.time_python, oco2_sahara.sif_757,'.')\n",
    "plt.ylabel('SIF (W/m$^2$/sr/$\\mu$m)')\n",
    "plt.title('OCO2 (SIF at 758nm)')\n",
    "plt.subplot(1,2,2)\n",
    "plt.plot(tropomi_sahara.time_python, tropomi_sahara.sif,'.')\n",
    "plt.ylabel('SIF (W/m$^2$/sr/$\\mu$m)')\n",
    "plt.title('TROPOMI (SIF at 740nm)')"
   ]
  },
  {
   "cell_type": "code",
   "execution_count": null,
   "metadata": {},
   "outputs": [],
   "source": [
    "# let us look at a histogram\n",
    "plt.hist(oco2_sahara.sif_757, 50,range=(-3,3), density=True, alpha=0.5, label='OCO-2')\n",
    "plt.hist(tropomi_sahara.sif,  50,range=(-3,3), density=True, alpha=0.5, label='TROPOMI')\n",
    "plt.legend(loc=0)"
   ]
  },
  {
   "cell_type": "markdown",
   "metadata": {},
   "source": [
    "## Does this make sense?\n",
    "We looked at the Sahara and SIF should be around 0. The data looks very noisy, can we make use of that? Many users ask us what to do with negative data, this example will show you why it is dangerous to exclude negative data in SIF the SIF analysis"
   ]
  },
  {
   "cell_type": "code",
   "execution_count": 17,
   "metadata": {},
   "outputs": [
    {
     "ename": "AttributeError",
     "evalue": "'L2' object has no attribute 'sif_757'",
     "output_type": "error",
     "traceback": [
      "\u001b[0;31m---------------------------------------------------------------------------\u001b[0m",
      "\u001b[0;31mAttributeError\u001b[0m                            Traceback (most recent call last)",
      "\u001b[0;32m<ipython-input-17-3471299af413>\u001b[0m in \u001b[0;36m<module>\u001b[0;34m\u001b[0m\n\u001b[0;32m----> 1\u001b[0;31m \u001b[0mprint\u001b[0m\u001b[0;34m(\u001b[0m\u001b[0;34m'Standard deviation of measured OCO-2 SIF data in Sahara '\u001b[0m \u001b[0;34m+\u001b[0m \u001b[0mstr\u001b[0m\u001b[0;34m(\u001b[0m\u001b[0mnp\u001b[0m\u001b[0;34m.\u001b[0m\u001b[0mstd\u001b[0m\u001b[0;34m(\u001b[0m\u001b[0moco2_sahara\u001b[0m\u001b[0;34m.\u001b[0m\u001b[0msif_757\u001b[0m\u001b[0;34m)\u001b[0m\u001b[0;34m)\u001b[0m \u001b[0;34m)\u001b[0m\u001b[0;34m\u001b[0m\u001b[0;34m\u001b[0m\u001b[0m\n\u001b[0m\u001b[1;32m      2\u001b[0m \u001b[0mprint\u001b[0m\u001b[0;34m(\u001b[0m\u001b[0;34m'Expected standard deviation based on posteriori error '\u001b[0m \u001b[0;34m+\u001b[0m \u001b[0mstr\u001b[0m\u001b[0;34m(\u001b[0m\u001b[0mnp\u001b[0m\u001b[0;34m.\u001b[0m\u001b[0mmean\u001b[0m\u001b[0;34m(\u001b[0m\u001b[0moco2_sahara\u001b[0m\u001b[0;34m.\u001b[0m\u001b[0msif_757_sigma\u001b[0m\u001b[0;34m)\u001b[0m\u001b[0;34m)\u001b[0m \u001b[0;34m)\u001b[0m\u001b[0;34m\u001b[0m\u001b[0;34m\u001b[0m\u001b[0m\n",
      "\u001b[0;31mAttributeError\u001b[0m: 'L2' object has no attribute 'sif_757'"
     ]
    }
   ],
   "source": [
    "print('Standard deviation of measured OCO-2 SIF data in Sahara ' + str(np.std(oco2_sahara.sif_757)) )\n",
    "print('Expected standard deviation based on posteriori error ' + str(np.mean(oco2_sahara.sif_757_sigma)) )"
   ]
  },
  {
   "cell_type": "code",
   "execution_count": 18,
   "metadata": {},
   "outputs": [
    {
     "ename": "AttributeError",
     "evalue": "'L2' object has no attribute 'sif_757'",
     "output_type": "error",
     "traceback": [
      "\u001b[0;31m---------------------------------------------------------------------------\u001b[0m",
      "\u001b[0;31mAttributeError\u001b[0m                            Traceback (most recent call last)",
      "\u001b[0;32m<ipython-input-18-5f16d6073839>\u001b[0m in \u001b[0;36m<module>\u001b[0;34m\u001b[0m\n\u001b[0;32m----> 1\u001b[0;31m \u001b[0mprint\u001b[0m\u001b[0;34m(\u001b[0m\u001b[0;34m'Mean if we exclude negative data '\u001b[0m \u001b[0;34m+\u001b[0m \u001b[0mstr\u001b[0m\u001b[0;34m(\u001b[0m\u001b[0mnp\u001b[0m\u001b[0;34m.\u001b[0m\u001b[0mmean\u001b[0m\u001b[0;34m(\u001b[0m\u001b[0moco2_sahara\u001b[0m\u001b[0;34m.\u001b[0m\u001b[0msif_757\u001b[0m\u001b[0;34m[\u001b[0m\u001b[0moco2_sahara\u001b[0m\u001b[0;34m.\u001b[0m\u001b[0msif_757\u001b[0m\u001b[0;34m>=\u001b[0m\u001b[0;36m0\u001b[0m\u001b[0;34m]\u001b[0m\u001b[0;34m)\u001b[0m\u001b[0;34m)\u001b[0m\u001b[0;34m)\u001b[0m\u001b[0;34m\u001b[0m\u001b[0;34m\u001b[0m\u001b[0m\n\u001b[0m\u001b[1;32m      2\u001b[0m \u001b[0mprint\u001b[0m\u001b[0;34m(\u001b[0m\u001b[0;34m'True mean '\u001b[0m \u001b[0;34m+\u001b[0m \u001b[0mstr\u001b[0m\u001b[0;34m(\u001b[0m\u001b[0mnp\u001b[0m\u001b[0;34m.\u001b[0m\u001b[0mmean\u001b[0m\u001b[0;34m(\u001b[0m\u001b[0moco2_sahara\u001b[0m\u001b[0;34m.\u001b[0m\u001b[0msif_757\u001b[0m\u001b[0;34m)\u001b[0m\u001b[0;34m)\u001b[0m\u001b[0;34m)\u001b[0m\u001b[0;34m\u001b[0m\u001b[0;34m\u001b[0m\u001b[0m\n",
      "\u001b[0;31mAttributeError\u001b[0m: 'L2' object has no attribute 'sif_757'"
     ]
    }
   ],
   "source": [
    "print('Mean if we exclude negative data ' + str(np.mean(oco2_sahara.sif_757[oco2_sahara.sif_757>=0])))\n",
    "print('True mean ' + str(np.mean(oco2_sahara.sif_757)))"
   ]
  },
  {
   "cell_type": "markdown",
   "metadata": {},
   "source": [
    "You can see 2 things here: a) removing negative values is dangerous. If the true value is 0 and we have measurement noise, negative retrievals are not unphysical if they are within the posterior noise estimate; b) we sometimes have averages that are below  (e.g. -0.12 here). This can happen and really depends on the posterior bias correction. We are still working on this but removing small biases on the order of 0.1 is really hard.\n",
    "\n",
    "-----"
   ]
  },
  {
   "cell_type": "markdown",
   "metadata": {},
   "source": [
    "## Let's take a region with more SIF, e.g. the corn belt (roughly Iowa)\n"
   ]
  },
  {
   "cell_type": "code",
   "execution_count": null,
   "metadata": {},
   "outputs": [],
   "source": [
    "# Define region boundaries (roughly Iowa)\n",
    "latMin_cb = 40\n",
    "latMax_cb = 43\n",
    "lonMin_cb = -96\n",
    "lonMax_cb = -91"
   ]
  },
  {
   "cell_type": "code",
   "execution_count": null,
   "metadata": {},
   "outputs": [],
   "source": [
    "oco2_iowa = L2(path_oco2+'2018/0[45678]/*.nc4', dict_oco2,latMin_cb, latMax_cb, lonMin_cb, lonMax_cb )"
   ]
  },
  {
   "cell_type": "code",
   "execution_count": null,
   "metadata": {},
   "outputs": [],
   "source": [
    "tropomi_iowa = L2(path_tropomi+'*2018-0[45678]*.nc', dict_tropomi,latMin_cb, latMax_cb, lonMin_cb, lonMax_cb )"
   ]
  },
  {
   "cell_type": "code",
   "execution_count": null,
   "metadata": {},
   "outputs": [],
   "source": [
    "# Again, convert tedious times in the files to something you can work with in python\n",
    "oco2_iowa.time_python    = convert_time(oco2_iowa.time, t_unit_oco2, t_cal)\n",
    "tropomi_iowa.time_python = convert_time(tropomi_iowa.time, t_unit_tropomi, t_cal)"
   ]
  },
  {
   "cell_type": "code",
   "execution_count": null,
   "metadata": {},
   "outputs": [],
   "source": [
    "# now lets plot a timeseries\n",
    "figsize(14,6)\n",
    "plt.subplot(1,2,1)\n",
    "nadir = np.where(oco2_iowa.mode==0)[0]\n",
    "glint = np.where(oco2_iowa.mode==1)[0]\n",
    "plt.plot(oco2_iowa.time_python[nadir], oco2_iowa.sif_757[nadir],'.',markersize=0.5, label='Nadir')\n",
    "plt.plot(oco2_iowa.time_python[glint], oco2_iowa.sif_757[glint],'.',markersize=0.5, label='Glint')\n",
    "plt.ylabel('SIF (W/m$^2$/sr/$\\mu$m)')\n",
    "plt.title('OCO2 (SIF at 758nm)')\n",
    "plt.legend(loc=0)\n",
    "plt.subplot(1,2,2)\n",
    "plt.plot(tropomi_iowa.time_python, tropomi_iowa.sif,'.',markersize=0.5)\n",
    "plt.ylabel('SIF (W/m$^2$/sr/$\\mu$m)')\n",
    "plt.title('TROPOMI (SIF at 740nm)')"
   ]
  },
  {
   "cell_type": "markdown",
   "metadata": {},
   "source": [
    "### Phase angle\n",
    "One important aspect affecting SIF is the phase angle as it largely determines the amount of sunlit leaves in the FOV of the instrument (maximum of a phase angle of 0, which is basically the hotspot of vegetation). More on this by Philipp."
   ]
  },
  {
   "cell_type": "code",
   "execution_count": null,
   "metadata": {},
   "outputs": [],
   "source": [
    "plt.scatter(tropomi_iowa.time_python, tropomi_iowa.sif,s=0.5, c=np.abs(tropomi_iowa.phaseAngle))\n",
    "plt.colorbar()\n",
    "plt.title('TROPOMI time-series with PhaseAngle color-coded')"
   ]
  },
  {
   "cell_type": "markdown",
   "metadata": {},
   "source": [
    "well, we have \"somewhat\" more data points using TROPOMI:"
   ]
  },
  {
   "cell_type": "code",
   "execution_count": null,
   "metadata": {},
   "outputs": [],
   "source": [
    "print('Number of OCO-2 data points in Iowa:   ' + str(len(oco2_iowa.sif_757)))\n",
    "print('Number of TROPOMI data points in Iowa: ' + str(len(tropomi_iowa.sif)))"
   ]
  },
  {
   "cell_type": "markdown",
   "metadata": {},
   "source": [
    "---\n",
    "## Let us compute timeseries from OCO-2 and TROPOMI data\n",
    "You can see that individual data are too noisy to work with, thus we have to average. Looking at Iowa, we see that we have more than enough data for averaging. Now we can define a temporal resolution and create a running mean to drive down the noise (which should scale with $1/\\sqrt{n}$):"
   ]
  },
  {
   "cell_type": "code",
   "execution_count": null,
   "metadata": {},
   "outputs": [],
   "source": [
    "# Let us define some averaging interval, get data every 3 days and create a running mean of +/- 3 days:\n",
    "from datetime import datetime\n",
    "# Define data range to smooth on (every 3 days)\n",
    "dates = np.arange('2018-04', '2018-08', dtype='datetime64[3D]').astype(datetime)"
   ]
  },
  {
   "cell_type": "code",
   "execution_count": null,
   "metadata": {},
   "outputs": [],
   "source": [
    "# We used dates with a 3 day time-step and now use a +/- 3 day filter for the running mean:\n",
    "iowa_timeseries_oco2 =    sif_rMean(oco2_iowa.time_python, oco2_iowa.sif_757,dates, 3 )\n",
    "iowa_timeseries_tropomi = sif_rMean(tropomi_iowa.time_python, tropomi_iowa.sif,dates, 3 )"
   ]
  },
  {
   "cell_type": "code",
   "execution_count": null,
   "metadata": {},
   "outputs": [],
   "source": [
    "# Conversion factor from 758nm to 740nm is roughly 1.55 (we can provide shapes if needed)\n",
    "cf = 1.55\n",
    "plt.errorbar(dates, iowa_timeseries_oco2.mean,yerr=iowa_timeseries_oco2.standard_error, label='OCO-2 Mean')\n",
    "plt.errorbar(dates, iowa_timeseries_tropomi.mean,yerr=iowa_timeseries_tropomi.standard_error,  label='TROPOMI Mean')\n",
    "plt.ylabel('SIF (W/m$^2$/sr/$\\mu$m)')\n",
    "plt.legend(loc=0)\n",
    "plt.title('Iowa Timeseries, +/-3 day running mean')"
   ]
  },
  {
   "cell_type": "markdown",
   "metadata": {},
   "source": [
    "---\n",
    "We see that the time-series agree reasonably well but that there is an offset (or scaling factor) as we define SIF at different wavelength. Let us take a look at typical SIF shapes from the SCOPE model (https://github.com/Christiaanvandertol/SCOPE) or our leaf level measurements (https://nph.onlinelibrary.wiley.com/doi/full/10.1111/nph.14662)."
   ]
  },
  {
   "cell_type": "code",
   "execution_count": null,
   "metadata": {},
   "outputs": [],
   "source": [
    "plt.plot(shape_scope[:,0], shape_scope[:,1], label='SCOPE')\n",
    "plt.plot(shape_walz[:,0], shape_walz[:,1]*12, label='Leaf level measurements')\n",
    "plt.title('normalized SIF shape')\n",
    "plt.xlabel('Wavelength (nm)')\n",
    "plt.legend()"
   ]
  },
  {
   "cell_type": "markdown",
   "metadata": {},
   "source": [
    "We can see that SIF changes quite a bit with wavelength but that the overall shape $>$740nm us pretty consistent between our leaf level measurements and the SCOPE model. The shorter wavelength is more affected by chlorophyll re-absorption, which can dramatically change the shape (also, we used red light as illumination for the leaf level measurements, which causes higher re-absorption as it penetrates deeper into the leaf).\n",
    "\n",
    "### How to correct for it?\n",
    "We provide a simple routine to convert the scaling factor needed to convert data from wavelength X to Y: Let's say we want to convert OCO-2 data from 758nm to the TROPOMI grid of 740nm, we get the following scaling factor:"
   ]
  },
  {
   "cell_type": "code",
   "execution_count": null,
   "metadata": {},
   "outputs": [],
   "source": [
    "print('Factor from SCOPE ', convertWL(758,740,shape_scope))\n",
    "print('Factor from leaf level ',convertWL(758,740,shape_walz))\n",
    "fac = convertWL(758,740,shape_walz)"
   ]
  },
  {
   "cell_type": "markdown",
   "metadata": {},
   "source": [
    "Now we can use the factor to better match the 2 time-series:"
   ]
  },
  {
   "cell_type": "code",
   "execution_count": null,
   "metadata": {},
   "outputs": [],
   "source": [
    "# Conversion factor from 758nm to 740nm is roughly 1.55 (we can provide shapes if needed)\n",
    "plt.errorbar(dates, iowa_timeseries_oco2.mean*fac,yerr=iowa_timeseries_oco2.standard_error*fac, label='OCO-2 Mean')\n",
    "plt.errorbar(dates, iowa_timeseries_tropomi.mean,yerr=iowa_timeseries_tropomi.standard_error,  label='TROPOMI Mean')\n",
    "plt.ylabel('SIF @740nm (W/m$^2$/sr/$\\mu$m)')\n",
    "plt.legend(loc=0)\n",
    "plt.title('Iowa Timeseries, +/-3 day running mean')"
   ]
  },
  {
   "cell_type": "markdown",
   "metadata": {},
   "source": [
    "Voila, this looks much better\n",
    "\n",
    "----"
   ]
  },
  {
   "cell_type": "markdown",
   "metadata": {},
   "source": [
    "## Correction for overpass time and length of day:\n",
    "Another crucial impact is due to changes in the overpass time and how to relate the instantaenous SIF to a daily average. Our first simple approximations are just based on calculations of the ratio of a daily average PAR vs instantaenous PAR (assuming cloud free conditions). To first order, this should bring different instruments into better alignment. We provide this conversion factor for all instruments. For TROPOMI and OCO-2, it is not a huge factor as the overpass time is similar (note though the the factor changes between the eastern and western part of the TROPOMI swath as the local time changes quite a bit):"
   ]
  },
  {
   "cell_type": "code",
   "execution_count": null,
   "metadata": {},
   "outputs": [],
   "source": [
    "# Let's calculate the SIF timeseries including the length of day correction:\n",
    "# Do the same for the length of day correction\n",
    "iowa_timeseries_tropomiDC = sif_rMean(tropomi_iowa.time_python, tropomi_iowa.sif*tropomi_iowa.dcCorr,dates, 3 )\n",
    "iowa_timeseries_oco2DC =    sif_rMean(oco2_iowa.time_python, oco2_iowa.sif_757*oco2_iowa.dcCorr,dates, 3 )"
   ]
  },
  {
   "cell_type": "code",
   "execution_count": null,
   "metadata": {},
   "outputs": [],
   "source": [
    "plt.plot(dates, iowa_timeseries_oco2DC.mean*fac, label='OCO-2 LOD corrected')\n",
    "plt.plot(dates, iowa_timeseries_tropomiDC.mean, label='TROPOMI LOD corrected')\n",
    "plt.legend()\n",
    "plt.ylabel('$\\overline{SIF}$ @740nm (W/m$^2$/sr/$\\mu$m)')\n",
    "plt.title('Length of Day correction impact')"
   ]
  },
  {
   "cell_type": "markdown",
   "metadata": {},
   "source": [
    "no big change here as the overpass times are similar (but it will have an impact on GOME-2 comparisons!)\n",
    "\n",
    "-----\n",
    "\n",
    "This is it, hope it was useful, Feedback and improvements are welcome!\n",
    "cfranken@caltech.edu"
   ]
  },
  {
   "cell_type": "code",
   "execution_count": null,
   "metadata": {},
   "outputs": [],
   "source": [
    "import pandas as pd\n",
    "\n",
    "path = '/Users/xiyang/Documents/GitHub/FluxCourse/Tonzi_DailyGEE2.csv'\n",
    "df   = pd.read_csv(path)"
   ]
  },
  {
   "cell_type": "code",
   "execution_count": 7,
   "metadata": {},
   "outputs": [
    {
     "ename": "NameError",
     "evalue": "name 'dates' is not defined",
     "output_type": "error",
     "traceback": [
      "\u001b[0;31m---------------------------------------------------------------------------\u001b[0m",
      "\u001b[0;31mNameError\u001b[0m                                 Traceback (most recent call last)",
      "\u001b[0;32m<ipython-input-7-fddab6a0e9dc>\u001b[0m in \u001b[0;36m<module>\u001b[0;34m\u001b[0m\n\u001b[0;32m----> 1\u001b[0;31m \u001b[0mtype\u001b[0m\u001b[0;34m(\u001b[0m\u001b[0mdates\u001b[0m\u001b[0;34m)\u001b[0m\u001b[0;34m\u001b[0m\u001b[0;34m\u001b[0m\u001b[0m\n\u001b[0m",
      "\u001b[0;31mNameError\u001b[0m: name 'dates' is not defined"
     ]
    }
   ],
   "source": [
    "type(dates)"
   ]
  },
  {
   "cell_type": "code",
   "execution_count": null,
   "metadata": {},
   "outputs": [],
   "source": []
  }
 ],
 "metadata": {
  "kernelspec": {
   "display_name": "Python 3",
   "language": "python",
   "name": "python3"
  },
  "language_info": {
   "codemirror_mode": {
    "name": "ipython",
    "version": 3
   },
   "file_extension": ".py",
   "mimetype": "text/x-python",
   "name": "python",
   "nbconvert_exporter": "python",
   "pygments_lexer": "ipython3",
   "version": "3.6.8"
  },
  "latex_envs": {
   "LaTeX_envs_menu_present": true,
   "autoclose": false,
   "autocomplete": true,
   "bibliofile": "biblio.bib",
   "cite_by": "apalike",
   "current_citInitial": 1,
   "eqLabelWithNumbers": true,
   "eqNumInitial": 1,
   "hotkeys": {
    "equation": "Ctrl-E",
    "itemize": "Ctrl-I"
   },
   "labels_anchors": false,
   "latex_user_defs": false,
   "report_style_numbering": false,
   "user_envs_cfg": false
  }
 },
 "nbformat": 4,
 "nbformat_minor": 2
}
