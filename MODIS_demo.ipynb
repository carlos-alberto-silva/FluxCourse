{
 "cells": [
  {
   "cell_type": "markdown",
   "metadata": {},
   "source": [
    "# FluxCourse MODIS section\n",
    "\n",
    "## Introduction\n",
    "\n",
    "In this section we will learn how to use MODIS datasets. We will go through the following sections:\n",
    "\n",
    "* How to download data for a geographic area I am interested in (instead of a rectangle area)?\n",
    "* How to download a time-series for a point of interest (e.g., FLUXNET sites)?\n",
    "* Fun project: compare MODIS products with SIF and EC data we used yesterday\n"
   ]
  },
  {
   "cell_type": "code",
   "execution_count": null,
   "metadata": {},
   "outputs": [],
   "source": [
    "# Always start with loading the packages needed\n"
   ]
  },
  {
   "cell_type": "code",
   "execution_count": null,
   "metadata": {},
   "outputs": [],
   "source": []
  }
 ],
 "metadata": {
  "kernelspec": {
   "display_name": "Python 3",
   "language": "python",
   "name": "python3"
  },
  "language_info": {
   "codemirror_mode": {
    "name": "ipython",
    "version": 3
   },
   "file_extension": ".py",
   "mimetype": "text/x-python",
   "name": "python",
   "nbconvert_exporter": "python",
   "pygments_lexer": "ipython3",
   "version": "3.6.8"
  }
 },
 "nbformat": 4,
 "nbformat_minor": 2
}
